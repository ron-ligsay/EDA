{
 "cells": [
  {
   "attachments": {},
   "cell_type": "markdown",
   "metadata": {},
   "source": [
    "# Importing the dataset"
   ]
  },
  {
   "cell_type": "code",
   "execution_count": 2,
   "metadata": {},
   "outputs": [
    {
     "data": {
      "text/html": [
       "<div>\n",
       "<style scoped>\n",
       "    .dataframe tbody tr th:only-of-type {\n",
       "        vertical-align: middle;\n",
       "    }\n",
       "\n",
       "    .dataframe tbody tr th {\n",
       "        vertical-align: top;\n",
       "    }\n",
       "\n",
       "    .dataframe thead th {\n",
       "        text-align: right;\n",
       "    }\n",
       "</style>\n",
       "<table border=\"1\" class=\"dataframe\">\n",
       "  <thead>\n",
       "    <tr style=\"text-align: right;\">\n",
       "      <th></th>\n",
       "      <th>age</th>\n",
       "      <th>sex</th>\n",
       "      <th>bmi</th>\n",
       "      <th>children</th>\n",
       "      <th>smoker</th>\n",
       "      <th>region</th>\n",
       "      <th>charges</th>\n",
       "    </tr>\n",
       "  </thead>\n",
       "  <tbody>\n",
       "    <tr>\n",
       "      <th>0</th>\n",
       "      <td>19</td>\n",
       "      <td>female</td>\n",
       "      <td>27.900</td>\n",
       "      <td>0</td>\n",
       "      <td>yes</td>\n",
       "      <td>southwest</td>\n",
       "      <td>16884.92400</td>\n",
       "    </tr>\n",
       "    <tr>\n",
       "      <th>1</th>\n",
       "      <td>18</td>\n",
       "      <td>male</td>\n",
       "      <td>33.770</td>\n",
       "      <td>1</td>\n",
       "      <td>no</td>\n",
       "      <td>southeast</td>\n",
       "      <td>1725.55230</td>\n",
       "    </tr>\n",
       "    <tr>\n",
       "      <th>2</th>\n",
       "      <td>28</td>\n",
       "      <td>male</td>\n",
       "      <td>33.000</td>\n",
       "      <td>3</td>\n",
       "      <td>no</td>\n",
       "      <td>southeast</td>\n",
       "      <td>4449.46200</td>\n",
       "    </tr>\n",
       "    <tr>\n",
       "      <th>3</th>\n",
       "      <td>33</td>\n",
       "      <td>male</td>\n",
       "      <td>22.705</td>\n",
       "      <td>0</td>\n",
       "      <td>no</td>\n",
       "      <td>northwest</td>\n",
       "      <td>21984.47061</td>\n",
       "    </tr>\n",
       "    <tr>\n",
       "      <th>4</th>\n",
       "      <td>32</td>\n",
       "      <td>male</td>\n",
       "      <td>28.880</td>\n",
       "      <td>0</td>\n",
       "      <td>no</td>\n",
       "      <td>northwest</td>\n",
       "      <td>3866.85520</td>\n",
       "    </tr>\n",
       "  </tbody>\n",
       "</table>\n",
       "</div>"
      ],
      "text/plain": [
       "   age     sex     bmi  children smoker     region      charges\n",
       "0   19  female  27.900         0    yes  southwest  16884.92400\n",
       "1   18    male  33.770         1     no  southeast   1725.55230\n",
       "2   28    male  33.000         3     no  southeast   4449.46200\n",
       "3   33    male  22.705         0     no  northwest  21984.47061\n",
       "4   32    male  28.880         0     no  northwest   3866.85520"
      ]
     },
     "execution_count": 2,
     "metadata": {},
     "output_type": "execute_result"
    }
   ],
   "source": [
    "import pandas as pd\n",
    "df = pd.read_csv('../../datasets/insurance.csv')\n",
    "df.head()"
   ]
  },
  {
   "attachments": {},
   "cell_type": "markdown",
   "metadata": {},
   "source": [
    "## Creating a statistical summary\n",
    "Using the describe() function, we can get a statistical summary of the dataset. This includes the count, mean, standard deviation, minimum and maximum values and the quantiles.\n",
    "- age\n",
    "- bmi\n",
    "- children\n",
    "- charges"
   ]
  },
  {
   "cell_type": "code",
   "execution_count": 3,
   "metadata": {},
   "outputs": [
    {
     "data": {
      "text/html": [
       "<div>\n",
       "<style scoped>\n",
       "    .dataframe tbody tr th:only-of-type {\n",
       "        vertical-align: middle;\n",
       "    }\n",
       "\n",
       "    .dataframe tbody tr th {\n",
       "        vertical-align: top;\n",
       "    }\n",
       "\n",
       "    .dataframe thead th {\n",
       "        text-align: right;\n",
       "    }\n",
       "</style>\n",
       "<table border=\"1\" class=\"dataframe\">\n",
       "  <thead>\n",
       "    <tr style=\"text-align: right;\">\n",
       "      <th></th>\n",
       "      <th>age</th>\n",
       "      <th>bmi</th>\n",
       "      <th>children</th>\n",
       "      <th>charges</th>\n",
       "    </tr>\n",
       "  </thead>\n",
       "  <tbody>\n",
       "    <tr>\n",
       "      <th>count</th>\n",
       "      <td>1338.000000</td>\n",
       "      <td>1338.000000</td>\n",
       "      <td>1338.000000</td>\n",
       "      <td>1338.000000</td>\n",
       "    </tr>\n",
       "    <tr>\n",
       "      <th>mean</th>\n",
       "      <td>39.207025</td>\n",
       "      <td>30.663397</td>\n",
       "      <td>1.094918</td>\n",
       "      <td>13270.422265</td>\n",
       "    </tr>\n",
       "    <tr>\n",
       "      <th>std</th>\n",
       "      <td>14.049960</td>\n",
       "      <td>6.098187</td>\n",
       "      <td>1.205493</td>\n",
       "      <td>12110.011237</td>\n",
       "    </tr>\n",
       "    <tr>\n",
       "      <th>min</th>\n",
       "      <td>18.000000</td>\n",
       "      <td>15.960000</td>\n",
       "      <td>0.000000</td>\n",
       "      <td>1121.873900</td>\n",
       "    </tr>\n",
       "    <tr>\n",
       "      <th>25%</th>\n",
       "      <td>27.000000</td>\n",
       "      <td>26.296250</td>\n",
       "      <td>0.000000</td>\n",
       "      <td>4740.287150</td>\n",
       "    </tr>\n",
       "    <tr>\n",
       "      <th>50%</th>\n",
       "      <td>39.000000</td>\n",
       "      <td>30.400000</td>\n",
       "      <td>1.000000</td>\n",
       "      <td>9382.033000</td>\n",
       "    </tr>\n",
       "    <tr>\n",
       "      <th>75%</th>\n",
       "      <td>51.000000</td>\n",
       "      <td>34.693750</td>\n",
       "      <td>2.000000</td>\n",
       "      <td>16639.912515</td>\n",
       "    </tr>\n",
       "    <tr>\n",
       "      <th>max</th>\n",
       "      <td>64.000000</td>\n",
       "      <td>53.130000</td>\n",
       "      <td>5.000000</td>\n",
       "      <td>63770.428010</td>\n",
       "    </tr>\n",
       "  </tbody>\n",
       "</table>\n",
       "</div>"
      ],
      "text/plain": [
       "               age          bmi     children       charges\n",
       "count  1338.000000  1338.000000  1338.000000   1338.000000\n",
       "mean     39.207025    30.663397     1.094918  13270.422265\n",
       "std      14.049960     6.098187     1.205493  12110.011237\n",
       "min      18.000000    15.960000     0.000000   1121.873900\n",
       "25%      27.000000    26.296250     0.000000   4740.287150\n",
       "50%      39.000000    30.400000     1.000000   9382.033000\n",
       "75%      51.000000    34.693750     2.000000  16639.912515\n",
       "max      64.000000    53.130000     5.000000  63770.428010"
      ]
     },
     "execution_count": 3,
     "metadata": {},
     "output_type": "execute_result"
    }
   ],
   "source": [
    "df.describe()"
   ]
  },
  {
   "attachments": {},
   "cell_type": "markdown",
   "metadata": {},
   "source": [
    "## Knowing the shape of the dataset"
   ]
  },
  {
   "cell_type": "code",
   "execution_count": 5,
   "metadata": {},
   "outputs": [
    {
     "data": {
      "text/plain": [
       "(1338, 7)"
      ]
     },
     "execution_count": 5,
     "metadata": {},
     "output_type": "execute_result"
    }
   ],
   "source": [
    "df.shape"
   ]
  },
  {
   "cell_type": "code",
   "execution_count": 7,
   "metadata": {},
   "outputs": [
    {
     "name": "stdout",
     "output_type": "stream",
     "text": [
      "age: 1338\n"
     ]
    }
   ],
   "source": [
    "print(f\"age: {df.age.count()}\")"
   ]
  },
  {
   "attachments": {},
   "cell_type": "markdown",
   "metadata": {},
   "source": [
    "## Getting information about the dataset"
   ]
  },
  {
   "cell_type": "code",
   "execution_count": 8,
   "metadata": {},
   "outputs": [
    {
     "data": {
      "text/plain": [
       "Index(['age', 'sex', 'bmi', 'children', 'smoker', 'region', 'charges'], dtype='object')"
      ]
     },
     "execution_count": 8,
     "metadata": {},
     "output_type": "execute_result"
    }
   ],
   "source": [
    "df.columns"
   ]
  },
  {
   "cell_type": "code",
   "execution_count": 10,
   "metadata": {},
   "outputs": [
    {
     "name": "stdout",
     "output_type": "stream",
     "text": [
      "age: 1338\n",
      "sex: 1338\n",
      "bmi: 1338\n",
      "children: 1338\n",
      "smoker: 1338\n",
      "region: 1338\n",
      "charges: 1338\n"
     ]
    }
   ],
   "source": [
    "print(f\"age: {df.age.count()}\")\n",
    "print(f\"sex: {df.sex.count()}\")\n",
    "print(f\"bmi: {df.bmi.count()}\")\n",
    "print(f\"children: {df.children.count()}\")\n",
    "print(f\"smoker: {df.smoker.count()}\")\n",
    "print(f\"region: {df.region.count()}\")\n",
    "print(f\"charges: {df.charges.count()}\")"
   ]
  },
  {
   "cell_type": "code",
   "execution_count": 14,
   "metadata": {},
   "outputs": [
    {
     "name": "stdout",
     "output_type": "stream",
     "text": [
      "Unique values in each column: \n",
      "age: 47\n",
      "sex: 2\n",
      "bmi: 548\n",
      "children: 6\n",
      "smoker: 2\n",
      "region: 4\n",
      "charges: 1337\n"
     ]
    }
   ],
   "source": [
    "print(\"Unique values in each column: \")\n",
    "print(f\"age: {df.age.nunique()}\")\n",
    "print(f\"sex: {df.sex.nunique()}\")\n",
    "print(f\"bmi: {df.bmi.nunique()}\")\n",
    "print(f\"children: {df.children.nunique()}\")\n",
    "print(f\"smoker: {df.smoker.nunique()}\")\n",
    "print(f\"region: {df.region.nunique()}\")\n",
    "print(f\"charges: {df.charges.nunique()}\")"
   ]
  },
  {
   "cell_type": "code",
   "execution_count": 17,
   "metadata": {},
   "outputs": [
    {
     "name": "stdout",
     "output_type": "stream",
     "text": [
      "Unique values in each column: \n",
      "age: True\n",
      "sex: False\n",
      "bmi: True\n",
      "children: True\n",
      "smoker: False\n",
      "region: False\n",
      "charges: True\n"
     ]
    }
   ],
   "source": [
    "print(\"is numeric values in each column: \")\n",
    "print(f\"age: {pd.api.types.is_numeric_dtype(df.age)}\")\n",
    "print(f\"sex: {pd.api.types.is_numeric_dtype(df.sex)}\")\n",
    "print(f\"bmi: {pd.api.types.is_numeric_dtype(df.bmi)}\")\n",
    "print(f\"children: {pd.api.types.is_numeric_dtype(df.children)}\")\n",
    "print(f\"smoker: {pd.api.types.is_numeric_dtype(df.smoker)}\")\n",
    "print(f\"region: {pd.api.types.is_numeric_dtype(df.region)}\")\n",
    "print(f\"charges: {pd.api.types.is_numeric_dtype(df.charges)}\")"
   ]
  },
  {
   "cell_type": "code",
   "execution_count": 16,
   "metadata": {},
   "outputs": [
    {
     "name": "stdout",
     "output_type": "stream",
     "text": [
      "Types of each column: \n",
      "age: int64\n",
      "sex: object\n",
      "bmi: float64\n",
      "children: int64\n",
      "smoker: object\n",
      "region: object\n",
      "charges: float64\n"
     ]
    }
   ],
   "source": [
    "print(\"Types of each column: \")\n",
    "print(f\"age: {df.age.dtype}\")\n",
    "print(f\"sex: {df.sex.dtype}\")\n",
    "print(f\"bmi: {df.bmi.dtype}\")\n",
    "print(f\"children: {df.children.dtype}\")\n",
    "print(f\"smoker: {df.smoker.dtype}\")\n",
    "print(f\"region: {df.region.dtype}\")\n",
    "print(f\"charges: {df.charges.dtype}\")"
   ]
  },
  {
   "cell_type": "code",
   "execution_count": 18,
   "metadata": {},
   "outputs": [
    {
     "name": "stdout",
     "output_type": "stream",
     "text": [
      "Total of null values for each column: \n",
      "age: 0\n",
      "sex: 0\n",
      "bmi: 0\n",
      "children: 0\n",
      "smoker: 0\n",
      "region: 0\n",
      "charges: 0\n"
     ]
    }
   ],
   "source": [
    "print(\"Total of null values for each column: \")\n",
    "print(f\"age: {df.age.isnull().sum()}\")\n",
    "print(f\"sex: {df.sex.isnull().sum()}\")\n",
    "print(f\"bmi: {df.bmi.isnull().sum()}\")\n",
    "print(f\"children: {df.children.isnull().sum()}\")\n",
    "print(f\"smoker: {df.smoker.isnull().sum()}\")\n",
    "print(f\"region: {df.region.isnull().sum()}\")\n",
    "print(f\"charges: {df.charges.isnull().sum()}\")"
   ]
  },
  {
   "attachments": {},
   "cell_type": "markdown",
   "metadata": {},
   "source": [
    "## knowing the data type"
   ]
  },
  {
   "cell_type": "code",
   "execution_count": 4,
   "metadata": {},
   "outputs": [
    {
     "name": "stdout",
     "output_type": "stream",
     "text": [
      "<class 'pandas.core.frame.DataFrame'>\n",
      "RangeIndex: 1338 entries, 0 to 1337\n",
      "Data columns (total 7 columns):\n",
      " #   Column    Non-Null Count  Dtype  \n",
      "---  ------    --------------  -----  \n",
      " 0   age       1338 non-null   int64  \n",
      " 1   sex       1338 non-null   object \n",
      " 2   bmi       1338 non-null   float64\n",
      " 3   children  1338 non-null   int64  \n",
      " 4   smoker    1338 non-null   object \n",
      " 5   region    1338 non-null   object \n",
      " 6   charges   1338 non-null   float64\n",
      "dtypes: float64(2), int64(2), object(3)\n",
      "memory usage: 73.3+ KB\n"
     ]
    }
   ],
   "source": [
    "df.info()"
   ]
  },
  {
   "attachments": {},
   "cell_type": "markdown",
   "metadata": {},
   "source": [
    "### Importing numpy as np"
   ]
  },
  {
   "cell_type": "code",
   "execution_count": 19,
   "metadata": {},
   "outputs": [],
   "source": [
    "import numpy as np"
   ]
  },
  {
   "cell_type": "code",
   "execution_count": 22,
   "metadata": {},
   "outputs": [
    {
     "name": "stdout",
     "output_type": "stream",
     "text": [
      "1121.8739\n",
      "4740.28715\n",
      "9382.033\n",
      "16639.912515\n",
      "63770.42801\n",
      "13270.422265141257\n",
      "9382.033\n",
      "1639.5631\n"
     ]
    }
   ],
   "source": [
    "print(df.charges.min()) # minimum value\n",
    "print(df.charges.quantile(.25))  # 25% of the data is below this value\n",
    "print(df.charges.quantile(.50))  # 50% of the data is below this value\n",
    "print(df.charges.quantile(.75))  # 75% of the data is below this value\n",
    "print(df.charges.max()) # maximum value\n",
    "\n",
    "print(df.charges.mean()) \n",
    "print(df.charges.median())\n",
    "print(df.charges.mode().values[0])"
   ]
  },
  {
   "attachments": {},
   "cell_type": "markdown",
   "metadata": {},
   "source": [
    "## Standard deviation\n",
    "A measure of how spread out numbers are. A low standard deviation indicates that the numbers tend to be very close to the mean (also called the expected value) of the set, while a high standard deviation indicates that the numbers are spread out over a wider range.\n"
   ]
  },
  {
   "cell_type": "code",
   "execution_count": 23,
   "metadata": {},
   "outputs": [
    {
     "data": {
      "text/plain": [
       "12110.011236694001"
      ]
     },
     "execution_count": 23,
     "metadata": {},
     "output_type": "execute_result"
    }
   ],
   "source": [
    "# Pandas Standard Deviation\n",
    "df.charges.std() # Based on the sample"
   ]
  },
  {
   "cell_type": "code",
   "execution_count": 24,
   "metadata": {},
   "outputs": [
    {
     "data": {
      "text/plain": [
       "12105.484975561612"
      ]
     },
     "execution_count": 24,
     "metadata": {},
     "output_type": "execute_result"
    }
   ],
   "source": [
    "# Numpy Standard Deviation\n",
    "np.std(df.charges) # Based on the population"
   ]
  },
  {
   "attachments": {},
   "cell_type": "markdown",
   "metadata": {},
   "source": [
    "## (AB) Normality: Skew, Kurtosis, QQ-plot\n",
    "- Skewness is a measure of the asymmetry of the probability distribution of a real-valued random variable about its mean. The skewness value can be positive or negative, or even undefined. A distribution, or data set, is symmetric if it looks the same to the left and right of the center point.\n",
    "    * A positive skewness indicates that there is a long tail in the distribution to the right of the mean. The mean and median will be greater than the mode.\n",
    "    * A negative skewness indicates that there is a long tail in the distribution to the left of the mean. The mean and median will be less than the mode.\n",
    "    * A skewness of zero indicates that there is no skew (that the distribution is perfectly symmetrical).\n",
    "    * A skewness value close to zero indicates that the data are fairly symmetrical.\n",
    "    * A skenewss value greater than 1 or less than -1 indicates that the data are highly skewed.\n",
    "\n",
    "\n",
    "- Kurtosis is a measure of whether the data are heavy-tailed or light-tailed relative to a normal distribution. That is, data sets with high kurtosis tend to have heavy tails, or outliers. Data sets with low kurtosis tend to have light tails, or lack of outliers. A uniform distribution would be the extreme case.\n",
    "    * A kurtosis value greater than 3 indicates a heavy-tailed distribution. In this case, there are more outliers in the distribution.\n",
    "    * A kurtosis value less than 3 indicates a light-tailed distribution. In this case, there are fewer outliers in the distribution.\n",
    "    * A kurtosis value of exactly 3 indicates that the distribution is mesokurtic. This means that the distribution is neither light-tailed nor heavy-tailed.\n",
    "\n",
    "\n",
    "- QQ-plot is a probability plot, which is a graphical method for comparing two probability distributions by plotting their quantiles against each other. If the two distributions being compared are identical, the resulting points should fall approximately on a line.\n",
    "    * If the two distributions are not identical, the resulting points will not fall on a line. The further away the points are from the line, the more different the two distributions are.\n",
    "    * The QQ-plot is a graphical method for comparing two probability distributions by plotting their quantiles against each other. If the two distributions being compared are identical, the resulting points should fall approximately on a line.\n",
    "    * If the two distributions are not identical, the resulting points will not fall on a line. The further away the points are from the line, the more different the two distributions are.\n",
    "\n"
   ]
  },
  {
   "cell_type": "code",
   "execution_count": null,
   "metadata": {},
   "outputs": [],
   "source": []
  }
 ],
 "metadata": {
  "kernelspec": {
   "display_name": "Python 3",
   "language": "python",
   "name": "python3"
  },
  "language_info": {
   "codemirror_mode": {
    "name": "ipython",
    "version": 3
   },
   "file_extension": ".py",
   "mimetype": "text/x-python",
   "name": "python",
   "nbconvert_exporter": "python",
   "pygments_lexer": "ipython3",
   "version": "3.8.5"
  },
  "orig_nbformat": 4
 },
 "nbformat": 4,
 "nbformat_minor": 2
}

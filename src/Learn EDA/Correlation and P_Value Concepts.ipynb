{
 "cells": [
  {
   "attachments": {},
   "cell_type": "markdown",
   "metadata": {},
   "source": [
    "# Correlation and P Value Concepts\n",
    "Correlation is a statistical measure that indicates the extent to which two or more variables fluctuate together. This is useful in feature selection. The most common method for calculating correlation is the Pearson Correlation Coefficient, that assumes a normal distribution of the attributes involved. The mathematical representation for the Pearson Correlation Coefficient is as follows:\n",
    "$$r = \\frac{\\sum_{i=1}^{n}(x_i - \\bar{x})(y_i - \\bar{y})}{\\sqrt{\\sum_{i=1}^{n}(x_i - \\bar{x})^2\\sum_{i=1}^{n}(y_i - \\bar{y})^2}}$$\n",
    "where:\n",
    "\n",
    "* $r$ is the Pearson Correlation Coefficient\n",
    "* $n$ is the number of data points\n",
    "* $x_i$ is the value of the first variable for the $i^{th}$ data point\n",
    "* $y_i$ is the value of the second variable for the $i^{th}$ data point\n",
    "* $\\bar{x}$ is the mean of the first variable\n",
    "* $\\bar{y}$ is the mean of the second variable\n"
   ]
  },
  {
   "attachments": {},
   "cell_type": "markdown",
   "metadata": {},
   "source": [
    "# P-Value Concepts\n",
    "The P-value is the probability of obtaining results at least as extreme as the observed results of a statistical hypothesis test, assuming that the null hypothesis is correct. A small p-value (typically ≤ 0.05) indicates strong evidence against the null hypothesis, so you reject the null hypothesis.\n",
    "- [ ] # Path: src\\Learn EDA\\Correlation and P_Value Concepts.ipynb\n",
    "- [ ] # Compare this snippet from src\\Learn EDA\\README.md:\n",
    "- [ ] #"
   ]
  },
  {
   "attachments": {},
   "cell_type": "markdown",
   "metadata": {},
   "source": [
    "# Independent and Dependent Variables\n",
    "Independent Variables\n",
    "-  age, sex, bmi, children, smoker, region\n",
    "\n",
    "Dependent Variables\n",
    "- charges"
   ]
  },
  {
   "cell_type": "code",
   "execution_count": null,
   "metadata": {
    "vscode": {
     "languageId": "plaintext"
    }
   },
   "outputs": [],
   "source": []
  }
 ],
 "metadata": {
  "language_info": {
   "name": "python"
  },
  "orig_nbformat": 4
 },
 "nbformat": 4,
 "nbformat_minor": 2
}

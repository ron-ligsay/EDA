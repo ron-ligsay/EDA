{
 "cells": [
  {
   "cell_type": "code",
   "execution_count": 4,
   "metadata": {},
   "outputs": [
    {
     "name": "stdout",
     "output_type": "stream",
     "text": [
      "Partial High School mean:  24000\n",
      "High School mean:  41428.57142857143\n",
      "Partial College mean:  60000\n",
      "Bachelors mean:  75833.33333333333\n",
      "Graduate mean:  89090.90909090909\n"
     ]
    }
   ],
   "source": [
    "from scipy import stats\n",
    "import statistics as stat   \n",
    "\n",
    "# let's start with some simply data in list form\n",
    "# Notice that you don't have to have the same number of values in each group\n",
    "edu_PartialHighSchool = [30000, 10000, 10000, 20000, 70000, 30000, 10000, 20000, 10000, 30000]\n",
    "edu_HighSchool = [20000, 30000, 60000, 20000, 40000, 60000, 60000]\n",
    "edu_PartialCollege = [60000, 40000, 30000, 130000, 60000, 40000]\n",
    "edu_Bachelors = [40000, 20000, 90000, 120000, 60000, 130000, 20000, 100000, 80000, 30000, 100000, 120000] \n",
    "edu_Graduate = [160000, 50000, 80000, 30000, 40000, 80000, 130000, 100000, 130000, 50000, 130000]\n",
    "\n",
    "print('Partial High School mean: ', stat.mean(edu_PartialHighSchool))\n",
    "print('High School mean: ', stat.mean(edu_HighSchool))\n",
    "print('Partial College mean: ', stat.mean(edu_PartialCollege))\n",
    "print('Bachelors mean: ', stat.mean(edu_Bachelors))\n",
    "print('Graduate mean: ', stat.mean(edu_Graduate))"
   ]
  },
  {
   "cell_type": "code",
   "execution_count": null,
   "metadata": {},
   "outputs": [],
   "source": []
  }
 ],
 "metadata": {
  "kernelspec": {
   "display_name": "Python 3",
   "language": "python",
   "name": "python3"
  },
  "language_info": {
   "codemirror_mode": {
    "name": "ipython",
    "version": 3
   },
   "file_extension": ".py",
   "mimetype": "text/x-python",
   "name": "python",
   "nbconvert_exporter": "python",
   "pygments_lexer": "ipython3",
   "version": "3.8.5"
  },
  "orig_nbformat": 4
 },
 "nbformat": 4,
 "nbformat_minor": 2
}
